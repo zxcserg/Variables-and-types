{
 "cells": [
  {
   "cell_type": "markdown",
   "metadata": {},
   "source": [
    "Complete the following code before committing and pushing them to your GH repo:"
   ]
  },
  {
   "cell_type": "code",
   "execution_count": null,
   "metadata": {},
   "outputs": [],
   "source": [
    "str1 = ' baa, baa, baa, black sheep, have you any wool? '\n",
    "str2 = 'Nursery rhymes'\n",
    "\n",
    "poem = # TODO: Fill in the poem variable using multiline strings=\n",
    "print() # Print str2 in upper case using upper()\n",
    "print() # Print str2 in upper case using lower()\n",
    "print() # Remove leading and trailing whitespaces using strip()\n",
    "print() # Replace 'baa' with 'maa' using remove()\n",
    "print() # Split str1 into a list using split() with space as the delimiter\n",
    "print() # Count the number of occurrences of 'baa' in str1\n",
    "print() # Count the number of occurrences of 'baa' in str1 from index 5 to 30\n",
    "print() # Find the index of 'y' in str1\n",
    "print() # Find the index of 'z' in str1\n",
    "print() # Check if str1 ends with '? '\n",
    "print() # Check if str2 starts with 'Nursery"
   ]
  },
  {
   "cell_type": "code",
   "execution_count": null,
   "metadata": {},
   "outputs": [],
   "source": []
  }
 ],
 "metadata": {
  "kernelspec": {
   "display_name": "Python 3",
   "language": "python",
   "name": "python3"
  },
  "language_info": {
   "name": "python",
   "version": "3.11.5"
  }
 },
 "nbformat": 4,
 "nbformat_minor": 2
}
