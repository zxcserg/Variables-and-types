{
 "cells": [
  {
   "cell_type": "markdown",
   "metadata": {},
   "source": [
    "Complete the following code before committing and pushing them to your GH repo:"
   ]
  },
  {
   "cell_type": "code",
   "execution_count": null,
   "metadata": {},
   "outputs": [],
   "source": [
    "str1 = ' baa, baa, baa, black sheep, have you any wool? '\n",
    "str2 = 'Nursery rhymes'\n",
    "print(str2.upper())\n",
    "print(str2.lower())\n",
    "print(str1.strip())\n",
    "print(str1.replace('baa', 'maa'))\n",
    "print(str1.split(' '))\n",
    "print(str1.count('baa'))\n",
    "print(str1.count('baa', 5, 20))\n",
    "print(str1.find('y'))\n",
    "print(str1.find('z'))\n",
    "print(str1.endswith('? '))\n",
    "print(str1.startswith(' Nursery'))\n"
   ]
  },
  {
   "cell_type": "code",
   "execution_count": null,
   "metadata": {},
   "outputs": [],
   "source": []
  }
 ],
 "metadata": {
  "kernelspec": {
   "display_name": "Python 3",
   "language": "python",
   "name": "python3"
  },
  "language_info": {
   "name": "python",
   "version": "3.11.5"
  }
 },
 "nbformat": 4,
 "nbformat_minor": 2
}
